{
  "cells": [
    {
      "cell_type": "code",
      "execution_count": null,
      "metadata": {
        "vscode": {
          "languageId": "plaintext"
        }
      },
      "outputs": [],
      "source": [
        "import matplotlib.pyplot as plt\n",
        "import csv\n",
        "\n",
        "epochs = []\n",
        "total_loss = []\n",
        "interior_loss = []\n",
        "terminal_loss = []\n",
        "boundary_loss = []\n",
        "loss_boundary_mc = []\n",
        "\n",
        "try:\n",
        "    with open('training_log.csv', 'r') as csvfile:\n",
        "        reader = csv.DictReader(csvfile)\n",
        "        for row in reader:\n",
        "            epochs.append(int(row['epoch']))\n",
        "            total_loss.append(float(row['total_loss']))\n",
        "            interior_loss.append(float(row['loss_interior']))\n",
        "            terminal_loss.append(float(row['loss_terminal']))\n",
        "            boundary_loss.append(float(row['loss_boundary']))\n",
        "            loss_boundary_mc.append(float(row['loss_boundary_mc']))\n",
        "\n",
        "    # Plot the training loss components\n",
        "    plt.figure(figsize=(12, 8))\n",
        "    plt.plot(epochs, total_loss, label='Total Loss')\n",
        "    plt.plot(epochs, interior_loss, label='Interior Loss')\n",
        "    plt.plot(epochs, terminal_loss, label='Terminal Loss')\n",
        "    plt.plot(epochs, boundary_loss, label='Boundary Loss')\n",
        "    plt.plot(epochs, loss_boundary_mc, label='loss_boundary_mc')\n",
        "    plt.xlabel('Epoch')\n",
        "    plt.ylabel('Loss (log scale)')\n",
        "    plt.title('Training Loss from training_log.csv')\n",
        "    plt.yscale('log')\n",
        "    plt.legend()\n",
        "    plt.grid(True)\n",
        "    plt.show()\n",
        "\n",
        "except FileNotFoundError:\n",
        "    print(\"training_log.csv not found. Skipping loss plot.\")\n",
        "except Exception as e:\n",
        "    print(f\"An error occurred while plotting training_log.csv: {e}\")\n"
      ]
    }
  ],
  "metadata": {
    "language_info": {
      "name": "python"
    }
  },
  "nbformat": 4,
  "nbformat_minor": 2
}
